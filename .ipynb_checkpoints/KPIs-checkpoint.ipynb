{
 "cells": [
  {
   "cell_type": "markdown",
   "metadata": {},
   "source": [
    "# Key Performance Indicators"
   ]
  },
  {
   "cell_type": "code",
   "execution_count": 39,
   "metadata": {},
   "outputs": [],
   "source": [
    "import pandas as pd\n",
    "import numpy as np\n",
    "import datetime\n",
    "import matplotlib.pyplot as plt\n",
    "import sys\n",
    "sys.path.append(\"../\")\n",
    "\n",
    "from data.make_dataset import get_stocks_data"
   ]
  },
  {
   "cell_type": "code",
   "execution_count": 32,
   "metadata": {},
   "outputs": [
    {
     "name": "stdout",
     "output_type": "stream",
     "text": [
      "SPY is being loaded...\n",
      "Attemps: 1 for SPY\n",
      "Attemps: 2 for SPY\n"
     ]
    }
   ],
   "source": [
    "# Get data\n",
    "end_date = datetime.date.today()\n",
    "start_date = end_date - datetime.timedelta(11 * 365)\n",
    "data = get_stocks_data(['SPY'], start_date, end_date)\n",
    "df = data.copy()"
   ]
  },
  {
   "cell_type": "code",
   "execution_count": 33,
   "metadata": {},
   "outputs": [
    {
     "data": {
      "text/plain": [
       "<matplotlib.axes._subplots.AxesSubplot at 0x117abe610>"
      ]
     },
     "execution_count": 33,
     "metadata": {},
     "output_type": "execute_result"
    },
    {
     "data": {
      "image/png": "[encoded data removed]",
      "text/plain": [
       "<Figure size 432x288 with 1 Axes>"
      ]
     },
     "metadata": {
      "needs_background": "light"
     },
     "output_type": "display_data"
    }
   ],
   "source": [
    "\n",
    "df.plot()\n"
   ]
  },
  {
   "cell_type": "code",
   "execution_count": 46,
   "metadata": {},
   "outputs": [
    {
     "name": "stdout",
     "output_type": "stream",
     "text": [
      "The annualized returns over the period is: 13%\n"
     ]
    }
   ],
   "source": [
    "def get_cagr(data, col):\n",
    "    df = data.copy(deep=True)\n",
    "    df['daily_return'] = df[col].pct_change()\n",
    "    df['cum_return'] = (1 + df['daily_return']).cumprod()\n",
    "    n_year = len(df) / 252\n",
    "    cagr = df['cum_return'][-1] ** (1/n_year) - 1\n",
    "    return cagr\n",
    "    \n",
    "cagr = get_cagr(df, 'SPY')\n",
    "print(f\"The annualized returns over the period is: {int(np.round(cagr, 2) * 100)}%\")"
   ]
  },
  {
   "cell_type": "markdown",
   "metadata": {},
   "source": [
    "# Volatility Measures"
   ]
  },
  {
   "cell_type": "code",
   "execution_count": 48,
   "metadata": {},
   "outputs": [
    {
     "data": {
      "text/plain": [
       "0.1716916604536484"
      ]
     },
     "execution_count": 48,
     "metadata": {},
     "output_type": "execute_result"
    }
   ],
   "source": [
    "def get_volatility(data, col):\n",
    "    df = data.copy(deep=True)\n",
    "    df['daily_return'] = df[col].pct_change()\n",
    "    vol = df['daily_return'].std() * np.sqrt(252)\n",
    "    return vol\n",
    "    \n",
    "get_volatility(df, 'SPY')\n"
   ]
  },
  {
   "cell_type": "markdown",
   "metadata": {},
   "source": [
    "## Sharpe Ratio & Sortino Ratio"
   ]
  },
  {
   "cell_type": "code",
   "execution_count": 51,
   "metadata": {},
   "outputs": [
    {
     "name": "stdout",
     "output_type": "stream",
     "text": [
      "0.6376700388253345\n"
     ]
    }
   ],
   "source": [
    "def get_sharpe(data, col, rf_rate):\n",
    "    df = data.copy(deep=True)\n",
    "    sharpe = (get_cagr(df, col) - rf_rate) / get_volatility(df, col)\n",
    "    return sharpe\n",
    "\n",
    "sharpe_ratio = get_sharpe(df, 'SPY', 0.022)\n",
    "print(sharpe_ratio)"
   ]
  },
  {
   "cell_type": "code",
   "execution_count": 55,
   "metadata": {},
   "outputs": [
    {
     "name": "stdout",
     "output_type": "stream",
     "text": [
      "0.7541452188894815\n"
     ]
    }
   ],
   "source": [
    "def get_sortino(data, col, rf_rate):\n",
    "    df = data.copy(deep=True)\n",
    "    df['daily_return'] = df[col].pct_change()\n",
    "    vol = df[df['daily_return'] < 0]['daily_return'].std() * np.sqrt(252)\n",
    "    sortino = (get_cagr(df, col) - rf_rate) / vol\n",
    "    return sortino\n",
    "\n",
    "sortino_ratio = get_sortino(df, 'SPY', 0.022)\n",
    "print(sortino_ratio)"
   ]
  },
  {
   "cell_type": "markdown",
   "metadata": {},
   "source": [
    "## Maximum Drawdown & Calmar Ratio"
   ]
  },
  {
   "cell_type": "code",
   "execution_count": 60,
   "metadata": {},
   "outputs": [
    {
     "name": "stdout",
     "output_type": "stream",
     "text": [
      "1.6491465794171862\n"
     ]
    }
   ],
   "source": [
    "def get_max_drawdown(data, col):\n",
    "    df = data.copy(deep=True)\n",
    "    df['daily_return'] = df[col].pct_change()\n",
    "    df['cum_return'] = (1 + df['daily_return']).cumprod()\n",
    "    df['cum_roll_max'] = df['cum_return'].cummax()\n",
    "    df['drawdown'] = df['cum_roll_max'] - df['cum_return']\n",
    "    df['drawdown_pct'] = df['drawdown']\n",
    "    max_drawdown = df['drawdown_pct'].max()\n",
    "    return max_drawdown\n",
    "\n",
    "output = get_max_drawdown(df, 'SPY')\n",
    "print(output)"
   ]
  },
  {
   "cell_type": "code",
   "execution_count": null,
   "metadata": {},
   "outputs": [],
   "source": []
  }
 ],
 "metadata": {
  "kernelspec": {
   "display_name": "Python 3",
   "language": "python",
   "name": "python3"
  },
  "language_info": {
   "codemirror_mode": {
    "name": "ipython",
    "version": 3
   },
   "file_extension": ".py",
   "mimetype": "text/x-python",
   "name": "python",
   "nbconvert_exporter": "python",
   "pygments_lexer": "ipython3",
   "version": "3.8.2"
  }
 },
 "nbformat": 4,
 "nbformat_minor": 4
}
