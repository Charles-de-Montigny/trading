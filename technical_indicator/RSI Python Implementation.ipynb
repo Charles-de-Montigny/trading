{
 "cells": [
  {
   "cell_type": "markdown",
   "metadata": {},
   "source": [
    "# RSI Python Implementation"
   ]
  },
  {
   "cell_type": "code",
   "execution_count": 2,
   "metadata": {},
   "outputs": [
    {
     "name": "stdout",
     "output_type": "stream",
     "text": [
      "\n",
      "CommandNotFoundError: Your shell has not been properly configured to use 'conda activate'.\n",
      "To initialize your shell, run\n",
      "\n",
      "    $ conda init <SHELL_NAME>\n",
      "\n",
      "Currently supported shells are:\n",
      "  - bash\n",
      "  - fish\n",
      "  - tcsh\n",
      "  - xonsh\n",
      "  - zsh\n",
      "  - powershell\n",
      "\n",
      "See 'conda init --help' for more information and options.\n",
      "\n",
      "IMPORTANT: You may need to close and restart your shell after running 'conda init'.\n",
      "\n",
      "\n"
     ]
    }
   ],
   "source": [
    "import pandas as pd\n",
    "import pandas_datareader as pdr\n",
    "import numpy as np\n",
    "import datetime "
   ]
  },
  {
   "cell_type": "markdown",
   "metadata": {},
   "source": [
    "### Load data"
   ]
  },
  {
   "cell_type": "code",
   "execution_count": 3,
   "metadata": {},
   "outputs": [
    {
     "data": {
      "text/html": [
       "<div>\n",
       "<style scoped>\n",
       "    .dataframe tbody tr th:only-of-type {\n",
       "        vertical-align: middle;\n",
       "    }\n",
       "\n",
       "    .dataframe tbody tr th {\n",
       "        vertical-align: top;\n",
       "    }\n",
       "\n",
       "    .dataframe thead th {\n",
       "        text-align: right;\n",
       "    }\n",
       "</style>\n",
       "<table border=\"1\" class=\"dataframe\">\n",
       "  <thead>\n",
       "    <tr style=\"text-align: right;\">\n",
       "      <th></th>\n",
       "      <th>High</th>\n",
       "      <th>Low</th>\n",
       "      <th>Open</th>\n",
       "      <th>Close</th>\n",
       "      <th>Volume</th>\n",
       "      <th>Adj Close</th>\n",
       "    </tr>\n",
       "    <tr>\n",
       "      <th>Date</th>\n",
       "      <th></th>\n",
       "      <th></th>\n",
       "      <th></th>\n",
       "      <th></th>\n",
       "      <th></th>\n",
       "      <th></th>\n",
       "    </tr>\n",
       "  </thead>\n",
       "  <tbody>\n",
       "    <tr>\n",
       "      <td>2010-04-01</td>\n",
       "      <td>34.104286</td>\n",
       "      <td>33.250000</td>\n",
       "      <td>33.915714</td>\n",
       "      <td>33.709999</td>\n",
       "      <td>150786300.0</td>\n",
       "      <td>29.261658</td>\n",
       "    </tr>\n",
       "    <tr>\n",
       "      <td>2010-04-05</td>\n",
       "      <td>34.072857</td>\n",
       "      <td>33.538570</td>\n",
       "      <td>33.568573</td>\n",
       "      <td>34.070000</td>\n",
       "      <td>171126900.0</td>\n",
       "      <td>29.574146</td>\n",
       "    </tr>\n",
       "    <tr>\n",
       "      <td>2010-04-06</td>\n",
       "      <td>34.320000</td>\n",
       "      <td>33.857143</td>\n",
       "      <td>34.028572</td>\n",
       "      <td>34.220001</td>\n",
       "      <td>111754300.0</td>\n",
       "      <td>29.704361</td>\n",
       "    </tr>\n",
       "    <tr>\n",
       "      <td>2010-04-07</td>\n",
       "      <td>34.560001</td>\n",
       "      <td>34.094284</td>\n",
       "      <td>34.221428</td>\n",
       "      <td>34.371429</td>\n",
       "      <td>157125500.0</td>\n",
       "      <td>29.835800</td>\n",
       "    </tr>\n",
       "    <tr>\n",
       "      <td>2010-04-08</td>\n",
       "      <td>34.505714</td>\n",
       "      <td>34.005714</td>\n",
       "      <td>34.348572</td>\n",
       "      <td>34.278572</td>\n",
       "      <td>143247300.0</td>\n",
       "      <td>29.755198</td>\n",
       "    </tr>\n",
       "  </tbody>\n",
       "</table>\n",
       "</div>"
      ],
      "text/plain": [
       "                 High        Low       Open      Close       Volume  Adj Close\n",
       "Date                                                                          \n",
       "2010-04-01  34.104286  33.250000  33.915714  33.709999  150786300.0  29.261658\n",
       "2010-04-05  34.072857  33.538570  33.568573  34.070000  171126900.0  29.574146\n",
       "2010-04-06  34.320000  33.857143  34.028572  34.220001  111754300.0  29.704361\n",
       "2010-04-07  34.560001  34.094284  34.221428  34.371429  157125500.0  29.835800\n",
       "2010-04-08  34.505714  34.005714  34.348572  34.278572  143247300.0  29.755198"
      ]
     },
     "execution_count": 3,
     "metadata": {},
     "output_type": "execute_result"
    }
   ],
   "source": [
    "end_date = datetime.date.today()\n",
    "start_date = end_date - datetime.timedelta(3650)\n",
    "data = pdr.get_data_yahoo('AAPL', start_date, end_date)\n",
    "data.head()"
   ]
  },
  {
   "cell_type": "code",
   "execution_count": 4,
   "metadata": {},
   "outputs": [],
   "source": [
    "df = data.copy()\n",
    "df['delta'] = df['Adj Close'] - df['Adj Close'].shift(1)"
   ]
  },
  {
   "cell_type": "code",
   "execution_count": 7,
   "metadata": {},
   "outputs": [],
   "source": [
    "def get_rsi(data, n):\n",
    "    \"\"\"Function that calculate RSI\"\"\"\n",
    "    df = data.copy()\n",
    "    df['delta'] = df['Adj Close'] - df['Adj Close'].shift(1)\n",
    "    df['gain'] = np.where(df['delta'] >= 0, df['delta'], 0)\n",
    "    df['loss'] = np.where(df['delta'] < 0, abs(df['delta']), 0)\n",
    "    avg_gain = []\n",
    "    avg_loss = []\n",
    "    gain = df['gain'].tolist()\n",
    "    loss = df['loss'].tolist()\n",
    "    for i in range(len(df)):\n",
    "        if i < n:\n",
    "            avg_gain.append(np.nan)\n",
    "            avg_loss.append(np.nan)\n",
    "        elif i == n:\n",
    "            tmp_gain = df['gain'].rolling(n).mean().tolist()[n]\n",
    "            tmp_loss = df['loss'].rolling(n).mean().tolist()[n]\n",
    "            avg_gain.append(tmp_gain)\n",
    "            avg_loss.append(tmp_loss)\n",
    "        elif i > n:\n",
    "            tmp_gain = ((n-1) * avg_gain[i-1] + gain[i])/n\n",
    "            tmp_loss = ((n-1) * avg_loss[i-1] + loss[i])/n\n",
    "            avg_gain.append(tmp_gain)\n",
    "            avg_loss.append(tmp_loss)\n",
    "    df['avg_gain'] = avg_gain\n",
    "    df['avg_loss'] = avg_loss\n",
    "    df['RS'] = df['avg_gain'] / df['avg_loss']\n",
    "    df['RSI'] = 100 - (100/(1+df['RS']))\n",
    "    return df['RSI']\n",
    "\n",
    "\n",
    "    "
   ]
  },
  {
   "cell_type": "code",
   "execution_count": 8,
   "metadata": {},
   "outputs": [],
   "source": [
    "rsi = get_rsi(df, n = 14)"
   ]
  },
  {
   "cell_type": "code",
   "execution_count": 9,
   "metadata": {},
   "outputs": [
    {
     "data": {
      "text/plain": [
       "Date\n",
       "2010-04-01          NaN\n",
       "2010-04-05          NaN\n",
       "2010-04-06          NaN\n",
       "2010-04-07          NaN\n",
       "2010-04-08          NaN\n",
       "                ...    \n",
       "2020-03-23    34.308996\n",
       "2020-03-24    42.616119\n",
       "2020-03-25    42.268336\n",
       "2020-03-26    46.717011\n",
       "2020-03-27    43.712796\n",
       "Name: RSI, Length: 2515, dtype: float64"
      ]
     },
     "execution_count": 9,
     "metadata": {},
     "output_type": "execute_result"
    }
   ],
   "source": [
    "rsi"
   ]
  },
  {
   "cell_type": "code",
   "execution_count": 10,
   "metadata": {},
   "outputs": [
    {
     "data": {
      "text/plain": [
       "nan"
      ]
     },
     "execution_count": 10,
     "metadata": {},
     "output_type": "execute_result"
    }
   ],
   "source": [
    "min(rsi)"
   ]
  },
  {
   "cell_type": "code",
   "execution_count": 11,
   "metadata": {},
   "outputs": [
    {
     "data": {
      "text/plain": [
       "nan"
      ]
     },
     "execution_count": 11,
     "metadata": {},
     "output_type": "execute_result"
    }
   ],
   "source": [
    "max(rsi)"
   ]
  },
  {
   "cell_type": "code",
   "execution_count": null,
   "metadata": {},
   "outputs": [],
   "source": []
  }
 ],
 "metadata": {
  "kernelspec": {
   "display_name": "Python 3",
   "language": "python",
   "name": "python3"
  },
  "language_info": {
   "codemirror_mode": {
    "name": "ipython",
    "version": 3
   },
   "file_extension": ".py",
   "mimetype": "text/x-python",
   "name": "python",
   "nbconvert_exporter": "python",
   "pygments_lexer": "ipython3",
   "version": "3.7.1"
  }
 },
 "nbformat": 4,
 "nbformat_minor": 2
}
