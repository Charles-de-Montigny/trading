{
 "cells": [
  {
   "cell_type": "markdown",
   "metadata": {},
   "source": [
    "# Oanda API connection"
   ]
  },
  {
   "cell_type": "code",
   "execution_count": 2,
   "metadata": {},
   "outputs": [],
   "source": [
    "import oandapyV20\n",
    "import oandapyV20.endpoints.instruments as instruments\n",
    "import oandapyV20.endpoints.pricing as pricing\n",
    "import oandapyV20.endpoints.accounts as accounts\n",
    "import oandapyV20.endpoints.orders as orders\n",
    "import oandapyV20.endpoints.trades as trades\n",
    "\n",
    "import pandas as pd"
   ]
  },
  {
   "cell_type": "code",
   "execution_count": 9,
   "metadata": {},
   "outputs": [],
   "source": [
    "account_id = \"101-002-14216533-001\"\n",
    "token_path = \"oanda_key.txt\"\n",
    "client = oandapyV20.API(access_token=open(token_path, 'r').read(), environment='practice')"
   ]
  },
  {
   "cell_type": "code",
   "execution_count": 40,
   "metadata": {},
   "outputs": [
    {
     "name": "stdout",
     "output_type": "stream",
     "text": [
      "USD_JPY\n"
     ]
    }
   ],
   "source": [
    "params = {'count':5000, 'granularity': \"M5\"}\n",
    "candles = instruments.InstrumentsCandles(instrument='USD_JPY', params=params)\n",
    "client.request(candles)\n",
    "print(candles.response['instrument'])"
   ]
  },
  {
   "cell_type": "code",
   "execution_count": 41,
   "metadata": {},
   "outputs": [],
   "source": [
    "ohlc = pd.DataFrame(candles.response['candles'])\n",
    "ohlc_df = ohlc.mid.dropna().apply(pd.Series)\n",
    "ohlc_df['volume'] = ohlc['volume']\n",
    "ohlc_df.set_index(ohlc['time'], inplace=True)\n",
    "ohlc_df = ohlc_df.apply(pd.to_numeric)"
   ]
  },
  {
   "cell_type": "code",
   "execution_count": 42,
   "metadata": {},
   "outputs": [
    {
     "data": {
      "text/plain": [
       "(5000, 5)"
      ]
     },
     "execution_count": 42,
     "metadata": {},
     "output_type": "execute_result"
    }
   ],
   "source": [
    "ohlc_df.shape"
   ]
  },
  {
   "cell_type": "code",
   "execution_count": 43,
   "metadata": {},
   "outputs": [
    {
     "data": {
      "text/html": [
       "<div>\n",
       "<style scoped>\n",
       "    .dataframe tbody tr th:only-of-type {\n",
       "        vertical-align: middle;\n",
       "    }\n",
       "\n",
       "    .dataframe tbody tr th {\n",
       "        vertical-align: top;\n",
       "    }\n",
       "\n",
       "    .dataframe thead th {\n",
       "        text-align: right;\n",
       "    }\n",
       "</style>\n",
       "<table border=\"1\" class=\"dataframe\">\n",
       "  <thead>\n",
       "    <tr style=\"text-align: right;\">\n",
       "      <th></th>\n",
       "      <th>o</th>\n",
       "      <th>h</th>\n",
       "      <th>l</th>\n",
       "      <th>c</th>\n",
       "      <th>volume</th>\n",
       "    </tr>\n",
       "    <tr>\n",
       "      <th>time</th>\n",
       "      <th></th>\n",
       "      <th></th>\n",
       "      <th></th>\n",
       "      <th></th>\n",
       "      <th></th>\n",
       "    </tr>\n",
       "  </thead>\n",
       "  <tbody>\n",
       "    <tr>\n",
       "      <th>2020-04-01T09:35:00.000000000Z</th>\n",
       "      <td>107.554</td>\n",
       "      <td>107.593</td>\n",
       "      <td>107.508</td>\n",
       "      <td>107.593</td>\n",
       "      <td>373</td>\n",
       "    </tr>\n",
       "    <tr>\n",
       "      <th>2020-04-01T09:40:00.000000000Z</th>\n",
       "      <td>107.591</td>\n",
       "      <td>107.648</td>\n",
       "      <td>107.582</td>\n",
       "      <td>107.632</td>\n",
       "      <td>513</td>\n",
       "    </tr>\n",
       "    <tr>\n",
       "      <th>2020-04-01T09:45:00.000000000Z</th>\n",
       "      <td>107.630</td>\n",
       "      <td>107.666</td>\n",
       "      <td>107.610</td>\n",
       "      <td>107.656</td>\n",
       "      <td>300</td>\n",
       "    </tr>\n",
       "    <tr>\n",
       "      <th>2020-04-01T09:50:00.000000000Z</th>\n",
       "      <td>107.658</td>\n",
       "      <td>107.664</td>\n",
       "      <td>107.585</td>\n",
       "      <td>107.620</td>\n",
       "      <td>358</td>\n",
       "    </tr>\n",
       "    <tr>\n",
       "      <th>2020-04-01T09:55:00.000000000Z</th>\n",
       "      <td>107.618</td>\n",
       "      <td>107.624</td>\n",
       "      <td>107.582</td>\n",
       "      <td>107.606</td>\n",
       "      <td>353</td>\n",
       "    </tr>\n",
       "    <tr>\n",
       "      <th>...</th>\n",
       "      <td>...</td>\n",
       "      <td>...</td>\n",
       "      <td>...</td>\n",
       "      <td>...</td>\n",
       "      <td>...</td>\n",
       "    </tr>\n",
       "    <tr>\n",
       "      <th>2020-04-24T20:35:00.000000000Z</th>\n",
       "      <td>107.440</td>\n",
       "      <td>107.461</td>\n",
       "      <td>107.426</td>\n",
       "      <td>107.456</td>\n",
       "      <td>67</td>\n",
       "    </tr>\n",
       "    <tr>\n",
       "      <th>2020-04-24T20:40:00.000000000Z</th>\n",
       "      <td>107.454</td>\n",
       "      <td>107.484</td>\n",
       "      <td>107.454</td>\n",
       "      <td>107.482</td>\n",
       "      <td>123</td>\n",
       "    </tr>\n",
       "    <tr>\n",
       "      <th>2020-04-24T20:45:00.000000000Z</th>\n",
       "      <td>107.481</td>\n",
       "      <td>107.483</td>\n",
       "      <td>107.460</td>\n",
       "      <td>107.477</td>\n",
       "      <td>108</td>\n",
       "    </tr>\n",
       "    <tr>\n",
       "      <th>2020-04-24T20:50:00.000000000Z</th>\n",
       "      <td>107.474</td>\n",
       "      <td>107.494</td>\n",
       "      <td>107.468</td>\n",
       "      <td>107.491</td>\n",
       "      <td>123</td>\n",
       "    </tr>\n",
       "    <tr>\n",
       "      <th>2020-04-24T20:55:00.000000000Z</th>\n",
       "      <td>107.494</td>\n",
       "      <td>107.524</td>\n",
       "      <td>107.468</td>\n",
       "      <td>107.504</td>\n",
       "      <td>144</td>\n",
       "    </tr>\n",
       "  </tbody>\n",
       "</table>\n",
       "<p>5000 rows × 5 columns</p>\n",
       "</div>"
      ],
      "text/plain": [
       "                                      o        h        l        c  volume\n",
       "time                                                                      \n",
       "2020-04-01T09:35:00.000000000Z  107.554  107.593  107.508  107.593     373\n",
       "2020-04-01T09:40:00.000000000Z  107.591  107.648  107.582  107.632     513\n",
       "2020-04-01T09:45:00.000000000Z  107.630  107.666  107.610  107.656     300\n",
       "2020-04-01T09:50:00.000000000Z  107.658  107.664  107.585  107.620     358\n",
       "2020-04-01T09:55:00.000000000Z  107.618  107.624  107.582  107.606     353\n",
       "...                                 ...      ...      ...      ...     ...\n",
       "2020-04-24T20:35:00.000000000Z  107.440  107.461  107.426  107.456      67\n",
       "2020-04-24T20:40:00.000000000Z  107.454  107.484  107.454  107.482     123\n",
       "2020-04-24T20:45:00.000000000Z  107.481  107.483  107.460  107.477     108\n",
       "2020-04-24T20:50:00.000000000Z  107.474  107.494  107.468  107.491     123\n",
       "2020-04-24T20:55:00.000000000Z  107.494  107.524  107.468  107.504     144\n",
       "\n",
       "[5000 rows x 5 columns]"
      ]
     },
     "execution_count": 43,
     "metadata": {},
     "output_type": "execute_result"
    }
   ],
   "source": [
    "ohlc_df"
   ]
  },
  {
   "cell_type": "code",
   "execution_count": null,
   "metadata": {},
   "outputs": [],
   "source": []
  }
 ],
 "metadata": {
  "kernelspec": {
   "display_name": "Python 3",
   "language": "python",
   "name": "python3"
  },
  "language_info": {
   "codemirror_mode": {
    "name": "ipython",
    "version": 3
   },
   "file_extension": ".py",
   "mimetype": "text/x-python",
   "name": "python",
   "nbconvert_exporter": "python",
   "pygments_lexer": "ipython3",
   "version": "3.8.2"
  }
 },
 "nbformat": 4,
 "nbformat_minor": 4
}
