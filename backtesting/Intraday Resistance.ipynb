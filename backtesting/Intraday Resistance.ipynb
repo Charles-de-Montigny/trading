{
 "cells": [
  {
   "cell_type": "markdown",
   "metadata": {},
   "source": [
    "# Intraday Resistance"
   ]
  },
  {
   "cell_type": "code",
   "execution_count": 1,
   "metadata": {},
   "outputs": [
    {
     "name": "stderr",
     "output_type": "stream",
     "text": [
      "/anaconda3/envs/fx/lib/python3.8/site-packages/pandas_datareader/compat/__init__.py:7: FutureWarning: pandas.util.testing is deprecated. Use the functions in the public API at pandas.testing instead.\n",
      "  from pandas.util.testing import assert_frame_equal\n"
     ]
    }
   ],
   "source": [
    "import pandas as pd\n",
    "import numpy as np\n",
    "import sys\n",
    "import datetime \n",
    "import click\n",
    "import copy\n",
    "import os\n",
    "from path import Path\n",
    "from itertools import product\n",
    "\n",
    "sys.path.append('../')\n",
    "\n",
    "from technical_indicator.atr import get_atr\n",
    "from kpi import get_cagr, get_volatility, get_sharpe, get_max_drawdown\n",
    "from data.make_dataset import get_fx, get_stock_intraday"
   ]
  },
  {
   "cell_type": "code",
   "execution_count": 2,
   "metadata": {},
   "outputs": [
    {
     "name": "stdout",
     "output_type": "stream",
     "text": [
      "\u001b[1mMSFT\u001b[0m\n",
      "\u001b[1mAAPL\u001b[0m\n",
      "\u001b[1mFB\u001b[0m\n",
      "\u001b[1mAMZN\u001b[0m\n",
      "\u001b[1mINTC\u001b[0m\n"
     ]
    }
   ],
   "source": [
    "key_path = '../key.txt'\n",
    "tickers = [\"MSFT\",\"AAPL\",\"FB\",\"AMZN\",\"INTC\"]\n",
    "#tickers = [\"CSCO\",\"VZ\",\"IBM\",\"QCOM\",\"LYFT\"]\n",
    "data = get_stock_intraday(key = open(key_path, 'r').read(), symbols=tickers, interval='5min')"
   ]
  },
  {
   "cell_type": "code",
   "execution_count": 3,
   "metadata": {},
   "outputs": [
    {
     "name": "stdout",
     "output_type": "stream",
     "text": [
      "MSFT\n"
     ]
    },
    {
     "data": {
      "text/html": [
       "<div>\n",
       "<style scoped>\n",
       "    .dataframe tbody tr th:only-of-type {\n",
       "        vertical-align: middle;\n",
       "    }\n",
       "\n",
       "    .dataframe tbody tr th {\n",
       "        vertical-align: top;\n",
       "    }\n",
       "\n",
       "    .dataframe thead th {\n",
       "        text-align: right;\n",
       "    }\n",
       "</style>\n",
       "<table border=\"1\" class=\"dataframe\">\n",
       "  <thead>\n",
       "    <tr style=\"text-align: right;\">\n",
       "      <th></th>\n",
       "      <th>Open</th>\n",
       "      <th>High</th>\n",
       "      <th>Low</th>\n",
       "      <th>Adj Close</th>\n",
       "      <th>Volume</th>\n",
       "    </tr>\n",
       "    <tr>\n",
       "      <th>date</th>\n",
       "      <th></th>\n",
       "      <th></th>\n",
       "      <th></th>\n",
       "      <th></th>\n",
       "      <th></th>\n",
       "    </tr>\n",
       "  </thead>\n",
       "  <tbody>\n",
       "    <tr>\n",
       "      <th>2020-03-31 09:35:00</th>\n",
       "      <td>158.9200</td>\n",
       "      <td>159.1900</td>\n",
       "      <td>158.3700</td>\n",
       "      <td>159.1700</td>\n",
       "      <td>4062063.0</td>\n",
       "    </tr>\n",
       "    <tr>\n",
       "      <th>2020-03-31 09:40:00</th>\n",
       "      <td>159.2550</td>\n",
       "      <td>159.3600</td>\n",
       "      <td>158.9869</td>\n",
       "      <td>158.9869</td>\n",
       "      <td>984960.0</td>\n",
       "    </tr>\n",
       "    <tr>\n",
       "      <th>2020-03-31 09:45:00</th>\n",
       "      <td>159.0960</td>\n",
       "      <td>159.3700</td>\n",
       "      <td>159.0180</td>\n",
       "      <td>159.0450</td>\n",
       "      <td>940089.0</td>\n",
       "    </tr>\n",
       "    <tr>\n",
       "      <th>2020-03-31 09:50:00</th>\n",
       "      <td>159.0301</td>\n",
       "      <td>159.0301</td>\n",
       "      <td>158.5400</td>\n",
       "      <td>158.5400</td>\n",
       "      <td>779766.0</td>\n",
       "    </tr>\n",
       "    <tr>\n",
       "      <th>2020-03-31 09:55:00</th>\n",
       "      <td>158.5000</td>\n",
       "      <td>158.5700</td>\n",
       "      <td>157.9900</td>\n",
       "      <td>158.1600</td>\n",
       "      <td>835340.0</td>\n",
       "    </tr>\n",
       "    <tr>\n",
       "      <th>...</th>\n",
       "      <td>...</td>\n",
       "      <td>...</td>\n",
       "      <td>...</td>\n",
       "      <td>...</td>\n",
       "      <td>...</td>\n",
       "    </tr>\n",
       "    <tr>\n",
       "      <th>2020-04-20 15:40:00</th>\n",
       "      <td>176.4250</td>\n",
       "      <td>176.5500</td>\n",
       "      <td>176.2200</td>\n",
       "      <td>176.2400</td>\n",
       "      <td>332986.0</td>\n",
       "    </tr>\n",
       "    <tr>\n",
       "      <th>2020-04-20 15:45:00</th>\n",
       "      <td>176.2600</td>\n",
       "      <td>176.4350</td>\n",
       "      <td>175.8700</td>\n",
       "      <td>176.2000</td>\n",
       "      <td>440173.0</td>\n",
       "    </tr>\n",
       "    <tr>\n",
       "      <th>2020-04-20 15:50:00</th>\n",
       "      <td>176.1904</td>\n",
       "      <td>176.3000</td>\n",
       "      <td>175.8100</td>\n",
       "      <td>176.1000</td>\n",
       "      <td>477006.0</td>\n",
       "    </tr>\n",
       "    <tr>\n",
       "      <th>2020-04-20 15:55:00</th>\n",
       "      <td>176.1000</td>\n",
       "      <td>176.2000</td>\n",
       "      <td>175.1500</td>\n",
       "      <td>175.3000</td>\n",
       "      <td>1075187.0</td>\n",
       "    </tr>\n",
       "    <tr>\n",
       "      <th>2020-04-20 16:00:00</th>\n",
       "      <td>175.2900</td>\n",
       "      <td>175.5900</td>\n",
       "      <td>174.9900</td>\n",
       "      <td>175.0000</td>\n",
       "      <td>1410326.0</td>\n",
       "    </tr>\n",
       "  </tbody>\n",
       "</table>\n",
       "<p>1092 rows × 5 columns</p>\n",
       "</div>"
      ],
      "text/plain": [
       "                         Open      High       Low  Adj Close     Volume\n",
       "date                                                                   \n",
       "2020-03-31 09:35:00  158.9200  159.1900  158.3700   159.1700  4062063.0\n",
       "2020-03-31 09:40:00  159.2550  159.3600  158.9869   158.9869   984960.0\n",
       "2020-03-31 09:45:00  159.0960  159.3700  159.0180   159.0450   940089.0\n",
       "2020-03-31 09:50:00  159.0301  159.0301  158.5400   158.5400   779766.0\n",
       "2020-03-31 09:55:00  158.5000  158.5700  157.9900   158.1600   835340.0\n",
       "...                       ...       ...       ...        ...        ...\n",
       "2020-04-20 15:40:00  176.4250  176.5500  176.2200   176.2400   332986.0\n",
       "2020-04-20 15:45:00  176.2600  176.4350  175.8700   176.2000   440173.0\n",
       "2020-04-20 15:50:00  176.1904  176.3000  175.8100   176.1000   477006.0\n",
       "2020-04-20 15:55:00  176.1000  176.2000  175.1500   175.3000  1075187.0\n",
       "2020-04-20 16:00:00  175.2900  175.5900  174.9900   175.0000  1410326.0\n",
       "\n",
       "[1092 rows x 5 columns]"
      ]
     },
     "execution_count": 3,
     "metadata": {},
     "output_type": "execute_result"
    }
   ],
   "source": [
    "print(list(data.keys())[0])\n",
    "data[tickers[0]]"
   ]
  },
  {
   "cell_type": "code",
   "execution_count": 4,
   "metadata": {},
   "outputs": [
    {
     "name": "stdout",
     "output_type": "stream",
     "text": [
      "Calculating ATR and rolling max for MSFT.\n",
      "Calculating ATR and rolling max for AAPL.\n",
      "Calculating ATR and rolling max for FB.\n",
      "Calculating ATR and rolling max for AMZN.\n",
      "Calculating ATR and rolling max for INTC.\n"
     ]
    }
   ],
   "source": [
    "# Calculating ATR and rolling max price for each stock\n",
    "ohlc = copy.deepcopy(data)\n",
    "ticker_signal = {}\n",
    "ticker_return = {}\n",
    "\n",
    "for ticker in tickers:\n",
    "    print(f\"Calculating ATR and rolling max for {ticker}.\")\n",
    "    ohlc[ticker]['ATR'] = get_atr(ohlc[ticker])\n",
    "    ohlc[ticker]['roll_max_cp'] = ohlc[ticker]['High'].rolling(20).max()\n",
    "    ohlc[ticker]['roll_min_cp'] = ohlc[ticker]['Low'].rolling(20).min()\n",
    "    ohlc[ticker]['roll_max_vol'] = ohlc[ticker]['Volume'].rolling(20).max()\n",
    "    ohlc[ticker].dropna(inplace=True)\n",
    "    ticker_signal[ticker] = None\n",
    "    ticker_return[ticker] = []"
   ]
  },
  {
   "cell_type": "code",
   "execution_count": 5,
   "metadata": {},
   "outputs": [
    {
     "name": "stdout",
     "output_type": "stream",
     "text": [
      "Calculating returns for MSFT\n",
      "Calculating returns for AAPL\n",
      "Calculating returns for FB\n",
      "Calculating returns for AMZN\n",
      "Calculating returns for INTC\n"
     ]
    }
   ],
   "source": [
    "def buy_signal(df, i):\n",
    "    return df['High'][i] >= df['roll_max_cp'][i] and \\\n",
    "        df['Volume'][i] > 1.5*df['roll_max_vol'][i-1]\n",
    "\n",
    "def sell_signal(df, i):\n",
    "    return df['Low'][i] <= df['roll_min_cp'][i] and \\\n",
    "                 df['Volume'][i] < 1.5*df['roll_max_vol'][i-1]\n",
    "\n",
    "for ticker in tickers:\n",
    "    print(f\"Calculating returns for {ticker}\")\n",
    "    try:\n",
    "        del df\n",
    "    except NameError:\n",
    "        pass\n",
    "    finally:\n",
    "        df = ohlc[ticker].reset_index()\n",
    "        \n",
    "    for i, _ in df.iterrows():\n",
    "        # No signal yet\n",
    "        if i == 0:\n",
    "            ticker_return[ticker].append(0)\n",
    "        elif ticker_signal[ticker] is None:\n",
    "            ticker_return[ticker].append(0)\n",
    "            if buy_signal(df, i):\n",
    "                ticker_signal[ticker] = 'Buy'\n",
    "            elif sell_signal(df, i):\n",
    "                ticker_signal[ticker] = 'Sell'\n",
    "                \n",
    "        elif ticker_signal[ticker] == 'Buy':\n",
    "            stoploss_return = ((df['Adj Close'][i-1] - df['ATR'][i-1])/ df['Adj Close'][i-1]) - 1\n",
    "            if df['Adj Close'][i] < df['Adj Close'][i-1] - df['ATR'][i-1]:\n",
    "                ticker_signal[ticker] = None\n",
    "                ticker_return[ticker].append(stoploss_return)\n",
    "            elif sell_signal(df, i):\n",
    "                ticker_signal[ticker] = 'Sell'\n",
    "                ticker_return[ticker].append(stoploss_return)\n",
    "            else:\n",
    "                ticker_return[ticker].append((df['Adj Close'][i] / df['Adj Close'][i-1]) - 1)\n",
    "                \n",
    "        elif ticker_signal[ticker] == 'Sell':\n",
    "            stoploss_return = (df['Adj Close'][i-1] / (df['Adj Close'][i-1] + df['ATR'][i-1])) - 1\n",
    "            if df['Adj Close'][i] > df['Adj Close'][i-1] + df['ATR'][i-1]:\n",
    "                ticker_signal[ticker] = None\n",
    "                ticker_return[ticker].append(stoploss_return)\n",
    "            elif buy_signal(df, i):\n",
    "                ticker_signal[ticker] = 'Buy'\n",
    "                ticker_return[ticker].append(stoploss_return)\n",
    "            else:\n",
    "                ticker_return[ticker].append((df['Adj Close'][i-1] / df['Adj Close'][i]) - 1)\n",
    "    \n",
    "    ohlc[ticker]['return'] = ticker_return[ticker]\n",
    "    "
   ]
  },
  {
   "cell_type": "code",
   "execution_count": 6,
   "metadata": {},
   "outputs": [],
   "source": [
    "backtest_stats = pd.DataFrame()\n",
    "for ticker in tickers:\n",
    "    backtest_stats[ticker] = ohlc[ticker]['return']\n",
    "backtest_stats['return'] = backtest_stats.mean(axis=1)"
   ]
  },
  {
   "cell_type": "code",
   "execution_count": 7,
   "metadata": {},
   "outputs": [
    {
     "data": {
      "text/plain": [
       "<matplotlib.axes._subplots.AxesSubplot at 0x102ae65b0>"
      ]
     },
     "execution_count": 7,
     "metadata": {},
     "output_type": "execute_result"
    },
    {
     "data": {
      "image/png": "[encoded data removed]",
      "text/plain": [
       "<Figure size 432x288 with 1 Axes>"
      ]
     },
     "metadata": {
      "needs_background": "light"
     },
     "output_type": "display_data"
    }
   ],
   "source": [
    "(1 + backtest_stats['return']).cumprod().plot()"
   ]
  },
  {
   "cell_type": "code",
   "execution_count": 8,
   "metadata": {},
   "outputs": [
    {
     "data": {
      "text/plain": [
       "date\n",
       "2020-03-31 11:15:00    1.000000\n",
       "2020-03-31 11:20:00    1.000000\n",
       "2020-03-31 11:25:00    1.000000\n",
       "2020-03-31 11:30:00    1.000000\n",
       "2020-03-31 11:35:00    1.000000\n",
       "                         ...   \n",
       "2020-04-20 15:40:00    1.137265\n",
       "2020-04-20 15:45:00    1.137224\n",
       "2020-04-20 15:50:00    1.136405\n",
       "2020-04-20 15:55:00    1.138371\n",
       "2020-04-20 16:00:00    1.140100\n",
       "Name: return, Length: 1072, dtype: float64"
      ]
     },
     "execution_count": 8,
     "metadata": {},
     "output_type": "execute_result"
    }
   ],
   "source": [
    "(1 + backtest_stats['return']).cumprod()"
   ]
  },
  {
   "cell_type": "code",
   "execution_count": 9,
   "metadata": {},
   "outputs": [
    {
     "data": {
      "text/html": [
       "<div>\n",
       "<style scoped>\n",
       "    .dataframe tbody tr th:only-of-type {\n",
       "        vertical-align: middle;\n",
       "    }\n",
       "\n",
       "    .dataframe tbody tr th {\n",
       "        vertical-align: top;\n",
       "    }\n",
       "\n",
       "    .dataframe thead th {\n",
       "        text-align: right;\n",
       "    }\n",
       "</style>\n",
       "<table border=\"1\" class=\"dataframe\">\n",
       "  <thead>\n",
       "    <tr style=\"text-align: right;\">\n",
       "      <th></th>\n",
       "      <th>MSFT</th>\n",
       "      <th>AAPL</th>\n",
       "      <th>FB</th>\n",
       "      <th>AMZN</th>\n",
       "      <th>INTC</th>\n",
       "      <th>return</th>\n",
       "    </tr>\n",
       "    <tr>\n",
       "      <th>date</th>\n",
       "      <th></th>\n",
       "      <th></th>\n",
       "      <th></th>\n",
       "      <th></th>\n",
       "      <th></th>\n",
       "      <th></th>\n",
       "    </tr>\n",
       "  </thead>\n",
       "  <tbody>\n",
       "    <tr>\n",
       "      <th>2020-04-20 15:40:00</th>\n",
       "      <td>0.0</td>\n",
       "      <td>0.002950</td>\n",
       "      <td>0.000000</td>\n",
       "      <td>0.002850</td>\n",
       "      <td>0.001937</td>\n",
       "      <td>0.001547</td>\n",
       "    </tr>\n",
       "    <tr>\n",
       "      <th>2020-04-20 15:45:00</th>\n",
       "      <td>0.0</td>\n",
       "      <td>0.000550</td>\n",
       "      <td>0.000000</td>\n",
       "      <td>0.000448</td>\n",
       "      <td>-0.001178</td>\n",
       "      <td>-0.000036</td>\n",
       "    </tr>\n",
       "    <tr>\n",
       "      <th>2020-04-20 15:50:00</th>\n",
       "      <td>0.0</td>\n",
       "      <td>-0.002058</td>\n",
       "      <td>0.000000</td>\n",
       "      <td>-0.000619</td>\n",
       "      <td>-0.000925</td>\n",
       "      <td>-0.000720</td>\n",
       "    </tr>\n",
       "    <tr>\n",
       "      <th>2020-04-20 15:55:00</th>\n",
       "      <td>0.0</td>\n",
       "      <td>0.002809</td>\n",
       "      <td>0.000000</td>\n",
       "      <td>0.001621</td>\n",
       "      <td>0.004221</td>\n",
       "      <td>0.001730</td>\n",
       "    </tr>\n",
       "    <tr>\n",
       "      <th>2020-04-20 16:00:00</th>\n",
       "      <td>0.0</td>\n",
       "      <td>0.002872</td>\n",
       "      <td>0.001206</td>\n",
       "      <td>0.002500</td>\n",
       "      <td>0.001014</td>\n",
       "      <td>0.001518</td>\n",
       "    </tr>\n",
       "  </tbody>\n",
       "</table>\n",
       "</div>"
      ],
      "text/plain": [
       "                     MSFT      AAPL        FB      AMZN      INTC    return\n",
       "date                                                                       \n",
       "2020-04-20 15:40:00   0.0  0.002950  0.000000  0.002850  0.001937  0.001547\n",
       "2020-04-20 15:45:00   0.0  0.000550  0.000000  0.000448 -0.001178 -0.000036\n",
       "2020-04-20 15:50:00   0.0 -0.002058  0.000000 -0.000619 -0.000925 -0.000720\n",
       "2020-04-20 15:55:00   0.0  0.002809  0.000000  0.001621  0.004221  0.001730\n",
       "2020-04-20 16:00:00   0.0  0.002872  0.001206  0.002500  0.001014  0.001518"
      ]
     },
     "execution_count": 9,
     "metadata": {},
     "output_type": "execute_result"
    }
   ],
   "source": [
    "get_cagr(backtest_stats)"
   ]
  },
  {
   "cell_type": "code",
   "execution_count": null,
   "metadata": {},
   "outputs": [],
   "source": []
  }
 ],
 "metadata": {
  "kernelspec": {
   "display_name": "Python 3",
   "language": "python",
   "name": "python3"
  },
  "language_info": {
   "codemirror_mode": {
    "name": "ipython",
    "version": 3
   },
   "file_extension": ".py",
   "mimetype": "text/x-python",
   "name": "python",
   "nbconvert_exporter": "python",
   "pygments_lexer": "ipython3",
   "version": "3.8.2"
  }
 },
 "nbformat": 4,
 "nbformat_minor": 4
}
