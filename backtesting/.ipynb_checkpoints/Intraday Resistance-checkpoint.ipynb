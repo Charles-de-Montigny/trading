{
 "cells": [
  {
   "cell_type": "markdown",
   "metadata": {},
   "source": [
    "# Intraday Resistance"
   ]
  },
  {
   "cell_type": "code",
   "execution_count": 1,
   "metadata": {},
   "outputs": [
    {
     "name": "stderr",
     "output_type": "stream",
     "text": [
      "/anaconda3/envs/fx/lib/python3.8/site-packages/pandas_datareader/compat/__init__.py:7: FutureWarning: pandas.util.testing is deprecated. Use the functions in the public API at pandas.testing instead.\n",
      "  from pandas.util.testing import assert_frame_equal\n"
     ]
    }
   ],
   "source": [
    "import pandas as pd\n",
    "import numpy as np\n",
    "import sys\n",
    "import datetime \n",
    "import click\n",
    "import copy\n",
    "import os\n",
    "from path import Path\n",
    "from itertools import product\n",
    "\n",
    "sys.path.append('../')\n",
    "\n",
    "from technical_indicator.atr import get_atr\n",
    "from kpi import get_cagr, get_volatility, get_sharpe, get_max_drawdown\n",
    "from data.make_dataset import get_fx, get_stock_intraday"
   ]
  },
  {
   "cell_type": "code",
   "execution_count": 2,
   "metadata": {},
   "outputs": [
    {
     "name": "stdout",
     "output_type": "stream",
     "text": [
      "\u001b[1mMSFT\u001b[0m\n",
      "\u001b[1mAAPL\u001b[0m\n",
      "\u001b[1mFB\u001b[0m\n",
      "\u001b[1mAMZN\u001b[0m\n",
      "\u001b[1mINTC\u001b[0m\n"
     ]
    }
   ],
   "source": [
    "key_path = '../key.txt'\n",
    "tickers = [\"MSFT\",\"AAPL\",\"FB\",\"AMZN\",\"INTC\"]\n",
    "#tickers = [\"CSCO\",\"VZ\",\"IBM\",\"QCOM\",\"LYFT\"]\n",
    "data = get_stock_intraday(key = open(key_path, 'r').read(), symbols=tickers, interval='5min')"
   ]
  },
  {
   "cell_type": "code",
   "execution_count": 3,
   "metadata": {},
   "outputs": [
    {
     "name": "stdout",
     "output_type": "stream",
     "text": [
      "MSFT\n"
     ]
    },
    {
     "data": {
      "text/html": [
       "<div>\n",
       "<style scoped>\n",
       "    .dataframe tbody tr th:only-of-type {\n",
       "        vertical-align: middle;\n",
       "    }\n",
       "\n",
       "    .dataframe tbody tr th {\n",
       "        vertical-align: top;\n",
       "    }\n",
       "\n",
       "    .dataframe thead th {\n",
       "        text-align: right;\n",
       "    }\n",
       "</style>\n",
       "<table border=\"1\" class=\"dataframe\">\n",
       "  <thead>\n",
       "    <tr style=\"text-align: right;\">\n",
       "      <th></th>\n",
       "      <th>Open</th>\n",
       "      <th>High</th>\n",
       "      <th>Low</th>\n",
       "      <th>Adj Close</th>\n",
       "      <th>Volume</th>\n",
       "    </tr>\n",
       "    <tr>\n",
       "      <th>date</th>\n",
       "      <th></th>\n",
       "      <th></th>\n",
       "      <th></th>\n",
       "      <th></th>\n",
       "      <th></th>\n",
       "    </tr>\n",
       "  </thead>\n",
       "  <tbody>\n",
       "    <tr>\n",
       "      <th>2020-04-17 16:00:00</th>\n",
       "      <td>178.3900</td>\n",
       "      <td>178.85</td>\n",
       "      <td>177.9100</td>\n",
       "      <td>178.710</td>\n",
       "      <td>2143853.0</td>\n",
       "    </tr>\n",
       "    <tr>\n",
       "      <th>2020-04-17 15:55:00</th>\n",
       "      <td>177.6300</td>\n",
       "      <td>178.75</td>\n",
       "      <td>177.5400</td>\n",
       "      <td>178.385</td>\n",
       "      <td>2037705.0</td>\n",
       "    </tr>\n",
       "    <tr>\n",
       "      <th>2020-04-17 15:50:00</th>\n",
       "      <td>177.1750</td>\n",
       "      <td>177.74</td>\n",
       "      <td>177.1250</td>\n",
       "      <td>177.550</td>\n",
       "      <td>714731.0</td>\n",
       "    </tr>\n",
       "    <tr>\n",
       "      <th>2020-04-17 15:45:00</th>\n",
       "      <td>177.5700</td>\n",
       "      <td>177.66</td>\n",
       "      <td>176.9100</td>\n",
       "      <td>177.210</td>\n",
       "      <td>591973.0</td>\n",
       "    </tr>\n",
       "    <tr>\n",
       "      <th>2020-04-17 15:40:00</th>\n",
       "      <td>177.6900</td>\n",
       "      <td>177.76</td>\n",
       "      <td>177.5000</td>\n",
       "      <td>177.560</td>\n",
       "      <td>457846.0</td>\n",
       "    </tr>\n",
       "    <tr>\n",
       "      <th>...</th>\n",
       "      <td>...</td>\n",
       "      <td>...</td>\n",
       "      <td>...</td>\n",
       "      <td>...</td>\n",
       "      <td>...</td>\n",
       "    </tr>\n",
       "    <tr>\n",
       "      <th>2020-03-27 09:55:00</th>\n",
       "      <td>149.7400</td>\n",
       "      <td>150.23</td>\n",
       "      <td>149.3931</td>\n",
       "      <td>149.800</td>\n",
       "      <td>994337.0</td>\n",
       "    </tr>\n",
       "    <tr>\n",
       "      <th>2020-03-27 09:50:00</th>\n",
       "      <td>150.3000</td>\n",
       "      <td>150.51</td>\n",
       "      <td>149.3550</td>\n",
       "      <td>149.770</td>\n",
       "      <td>1081040.0</td>\n",
       "    </tr>\n",
       "    <tr>\n",
       "      <th>2020-03-27 09:45:00</th>\n",
       "      <td>151.3000</td>\n",
       "      <td>151.30</td>\n",
       "      <td>149.8900</td>\n",
       "      <td>150.270</td>\n",
       "      <td>1315423.0</td>\n",
       "    </tr>\n",
       "    <tr>\n",
       "      <th>2020-03-27 09:40:00</th>\n",
       "      <td>151.7957</td>\n",
       "      <td>152.17</td>\n",
       "      <td>151.2860</td>\n",
       "      <td>151.286</td>\n",
       "      <td>1210331.0</td>\n",
       "    </tr>\n",
       "    <tr>\n",
       "      <th>2020-03-27 09:35:00</th>\n",
       "      <td>151.7500</td>\n",
       "      <td>152.19</td>\n",
       "      <td>151.3650</td>\n",
       "      <td>151.875</td>\n",
       "      <td>2705461.0</td>\n",
       "    </tr>\n",
       "  </tbody>\n",
       "</table>\n",
       "<p>1170 rows × 5 columns</p>\n",
       "</div>"
      ],
      "text/plain": [
       "                         Open    High       Low  Adj Close     Volume\n",
       "date                                                                 \n",
       "2020-04-17 16:00:00  178.3900  178.85  177.9100    178.710  2143853.0\n",
       "2020-04-17 15:55:00  177.6300  178.75  177.5400    178.385  2037705.0\n",
       "2020-04-17 15:50:00  177.1750  177.74  177.1250    177.550   714731.0\n",
       "2020-04-17 15:45:00  177.5700  177.66  176.9100    177.210   591973.0\n",
       "2020-04-17 15:40:00  177.6900  177.76  177.5000    177.560   457846.0\n",
       "...                       ...     ...       ...        ...        ...\n",
       "2020-03-27 09:55:00  149.7400  150.23  149.3931    149.800   994337.0\n",
       "2020-03-27 09:50:00  150.3000  150.51  149.3550    149.770  1081040.0\n",
       "2020-03-27 09:45:00  151.3000  151.30  149.8900    150.270  1315423.0\n",
       "2020-03-27 09:40:00  151.7957  152.17  151.2860    151.286  1210331.0\n",
       "2020-03-27 09:35:00  151.7500  152.19  151.3650    151.875  2705461.0\n",
       "\n",
       "[1170 rows x 5 columns]"
      ]
     },
     "execution_count": 3,
     "metadata": {},
     "output_type": "execute_result"
    }
   ],
   "source": [
    "print(list(data.keys())[0])\n",
    "data[tickers[0]]"
   ]
  },
  {
   "cell_type": "code",
   "execution_count": 47,
   "metadata": {},
   "outputs": [
    {
     "name": "stdout",
     "output_type": "stream",
     "text": [
      "Calculating ATR and rolling max for MSFT.\n",
      "Calculating ATR and rolling max for AAPL.\n",
      "Calculating ATR and rolling max for FB.\n",
      "Calculating ATR and rolling max for AMZN.\n",
      "Calculating ATR and rolling max for INTC.\n"
     ]
    }
   ],
   "source": [
    "# Calculating ATR and rolling max price for each stock\n",
    "ohlc = copy.deepcopy(data)\n",
    "ticker_signal = {}\n",
    "ticker_return = {}\n",
    "\n",
    "for ticker in tickers:\n",
    "    print(f\"Calculating ATR and rolling max for {ticker}.\")\n",
    "    ohlc[ticker]['ATR'] = get_atr(ohlc[ticker])\n",
    "    ohlc[ticker]['roll_max_cp'] = ohlc[ticker]['High'].rolling(20).max()\n",
    "    ohlc[ticker]['roll_min_cp'] = ohlc[ticker]['Low'].rolling(20).min()\n",
    "    ohlc[ticker]['roll_max_vol'] = ohlc[ticker]['Volume'].rolling(20).max()\n",
    "    ohlc[ticker].dropna(inplace=True)\n",
    "    ticker_signal[ticker] = None\n",
    "    ticker_return[ticker] = []"
   ]
  },
  {
   "cell_type": "code",
   "execution_count": 48,
   "metadata": {},
   "outputs": [
    {
     "name": "stdout",
     "output_type": "stream",
     "text": [
      "Calculating returns for MSFT\n",
      "Calculating returns for AAPL\n",
      "Calculating returns for FB\n",
      "Calculating returns for AMZN\n",
      "Calculating returns for INTC\n"
     ]
    }
   ],
   "source": [
    "def buy_signal(df, i):\n",
    "    return df['High'][i] >= df['roll_max_cp'][i] and \\\n",
    "        df['Volume'][i] > 1.5*df['roll_max_vol'][i-1]\n",
    "\n",
    "def sell_signal(df, i):\n",
    "    return df['Low'][i] <= df['roll_min_cp'][i] and \\\n",
    "                 df['Volume'][i] < 1.5*df['roll_max_vol'][i-1]\n",
    "\n",
    "for ticker in tickers:\n",
    "    print(f\"Calculating returns for {ticker}\")\n",
    "    try:\n",
    "        del df\n",
    "    finally:\n",
    "        df = ohlc[ticker].reset_index()\n",
    "        \n",
    "    for i, _ in df.iterrows():\n",
    "        # No signal yet\n",
    "        if i == 0:\n",
    "            ticker_return[ticker].append(0)\n",
    "        elif ticker_signal[ticker] is None:\n",
    "            ticker_return[ticker].append(0)\n",
    "            if buy_signal(df, i):\n",
    "                ticker_signal[ticker] = 'Buy'\n",
    "            elif sell_signal(df, i):\n",
    "                ticker_signal[ticker] = 'Sell'\n",
    "                \n",
    "        elif ticker_signal[ticker] == 'Buy':\n",
    "            stoploss_return = ((df['Adj Close'][i-1] - df['ATR'][i-1])/ df['Adj Close'][i-1]) - 1\n",
    "            if df['Adj Close'][i] < df['Adj Close'][i-1] - df['ATR'][i-1]:\n",
    "                ticker_signal[ticker] = None\n",
    "                ticker_return[ticker].append(stoploss_return)\n",
    "            elif sell_signal(df, i):\n",
    "                ticker_signal[ticker] = 'Sell'\n",
    "                ticker_return[ticker].append(stoploss_return)\n",
    "            else:\n",
    "                ticker_return[ticker].append((df['Adj Close'][i] / df['Adj Close'][i-1]) - 1)\n",
    "                \n",
    "        elif ticker_signal[ticker] == 'Sell':\n",
    "            stoploss_return = (df['Adj Close'][i-1] / (df['Adj Close'][i-1] + df['ATR'][i-1])) - 1\n",
    "            if df['Adj Close'][i] > df['Adj Close'][i-1] + df['ATR'][i-1]:\n",
    "                ticker_signal[ticker] = None\n",
    "                ticker_return[ticker].append(stoploss_return)\n",
    "            elif buy_signal(df, i):\n",
    "                ticker_signal[ticker] = 'Buy'\n",
    "                ticker_return[ticker].append(stoploss_return)\n",
    "            else:\n",
    "                ticker_return[ticker].append((df['Adj Close'][i-1] / df['Adj Close'][i]) - 1)\n",
    "    \n",
    "    ohlc[ticker]['return'] = ticker_return[ticker]\n",
    "    "
   ]
  }
 ],
 "metadata": {
  "kernelspec": {
   "display_name": "Python 3",
   "language": "python",
   "name": "python3"
  },
  "language_info": {
   "codemirror_mode": {
    "name": "ipython",
    "version": 3
   },
   "file_extension": ".py",
   "mimetype": "text/x-python",
   "name": "python",
   "nbconvert_exporter": "python",
   "pygments_lexer": "ipython3",
   "version": "3.8.2"
  }
 },
 "nbformat": 4,
 "nbformat_minor": 4
}
