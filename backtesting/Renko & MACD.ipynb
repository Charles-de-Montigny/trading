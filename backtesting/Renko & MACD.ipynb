{
 "cells": [
  {
   "cell_type": "markdown",
   "metadata": {},
   "source": [
    "# Renko & MACD"
   ]
  },
  {
   "cell_type": "code",
   "execution_count": 1,
   "metadata": {},
   "outputs": [
    {
     "name": "stderr",
     "output_type": "stream",
     "text": [
      "/anaconda3/envs/fx/lib/python3.8/site-packages/pandas_datareader/compat/__init__.py:7: FutureWarning: pandas.util.testing is deprecated. Use the functions in the public API at pandas.testing instead.\n",
      "  from pandas.util.testing import assert_frame_equal\n"
     ]
    }
   ],
   "source": [
    "import pandas_datareader.data as pdr\n",
    "import pandas as pd\n",
    "import numpy as np\n",
    "import datetime\n",
    "import copy\n",
    "import sys\n",
    "import warnings\n",
    "\n",
    "from stocktrends import Renko\n",
    "from itertools import product\n",
    "\n",
    "warnings.simplefilter(action='ignore')\n",
    "sys.path.append(\"../\")\n",
    "\n",
    "from data.make_dataset import get_stock_intraday\n",
    "from technical_indicators import get_atr, get_obv, get_renko, get_slopes, get_macd\n",
    "from kpi import get_sharpe, get_cagr, get_max_drawdown, get_calmar"
   ]
  },
  {
   "cell_type": "code",
   "execution_count": 2,
   "metadata": {},
   "outputs": [
    {
     "name": "stdout",
     "output_type": "stream",
     "text": [
      "\u001b[1mCSCO\u001b[0m\n",
      "\u001b[1mVZ\u001b[0m\n",
      "\u001b[1mIBM\u001b[0m\n",
      "\u001b[1mQCOM\u001b[0m\n",
      "\u001b[1mLYFT\u001b[0m\n"
     ]
    }
   ],
   "source": [
    "tickers = [\"CSCO\",\"VZ\",\"IBM\",\"QCOM\",\"LYFT\"]\n",
    "ohlc_intraday = get_stock_intraday(\"alpha_vantage_key.txt\", tickers)"
   ]
  },
  {
   "cell_type": "code",
   "execution_count": 3,
   "metadata": {},
   "outputs": [
    {
     "name": "stdout",
     "output_type": "stream",
     "text": [
      "Merging for:  CSCO\n",
      "Merging for:  VZ\n",
      "Merging for:  IBM\n",
      "Merging for:  QCOM\n",
      "Merging for:  LYFT\n"
     ]
    }
   ],
   "source": [
    "ohlc_renko = {}\n",
    "dfs = copy.deepcopy(ohlc_intraday)\n",
    "\n",
    "for ticker in tickers:\n",
    "    print(\"Merging for: \", ticker)\n",
    "    #dfs[ticker].reset_index(inplace=True)\n",
    "    renko = get_renko(dfs[ticker])\n",
    "    tmp_df = dfs[ticker].merge(renko[['date', 'renko_bar']], how='outer', on='date')\n",
    "    tmp_df['renko_bar'].fillna(method='ffill', inplace=True)\n",
    "    tmp_df['macd'], tmp_df['macd_sig'] = get_macd(tmp_df, 'Adj Close')\n",
    "    tmp_df['macd_slope'] = get_slopes(tmp_df['macd'], degree=True)\n",
    "    tmp_df['macd_sig_slope'] = get_slopes(tmp_df['macd_sig'], degree=True)\n",
    "    ohlc_renko[ticker] = tmp_df\n",
    "    del tmp_df"
   ]
  },
  {
   "cell_type": "code",
   "execution_count": 4,
   "metadata": {},
   "outputs": [],
   "source": [
    "ticker_signal = {ticker: None for ticker in tickers}\n",
    "ticker_return = {ticker: [] for ticker in tickers}"
   ]
  },
  {
   "cell_type": "code",
   "execution_count": 5,
   "metadata": {},
   "outputs": [],
   "source": [
    "def buy_signal(df, i, renko_nb=2):\n",
    "    signal = df['renko_bar'][i] >= renko_nb and df['macd'][i] > df['macd_sig'][i] and\\\n",
    "        df['macd_slope'][i] >df['macd_sig_slope'][i]\n",
    "    return signal\n",
    "\n",
    "\n",
    "def sell_signal(df, i, renko_nb=2):\n",
    "    signal = df['renko_bar'][i] <= -renko_nb and df['macd'][i] < df['macd_sig'][i] and\\\n",
    "        df['macd_slope'][i] < df['macd_sig_slope'][i]\n",
    "    return signal\n",
    "\n",
    "\n",
    "def exit_signal(df, i, position):\n",
    "    if position == -1:\n",
    "        signal = df['macd'][i] > df['macd_sig'][i] and df['macd_slope'][i] > df['macd_sig_slope'][i]\n",
    "    elif position == 1:\n",
    "        signal = df['macd'][i] < df['macd_sig'][i] and df['macd_slope'][i] < df['macd_sig_slope'][i]\n",
    "    return signal"
   ]
  },
  {
   "cell_type": "code",
   "execution_count": 6,
   "metadata": {},
   "outputs": [],
   "source": [
    "def backtest(ohlc_renko, renko_nb, verbose=True):\n",
    "    for ticker in tickers:\n",
    "        if verbose:\n",
    "            print(f\"Calculating daily returns for: {ticker}\")\n",
    "        try:\n",
    "            del df\n",
    "        except NameError:\n",
    "            pass\n",
    "        finally: \n",
    "            df = ohlc_renko[ticker].reset_index()\n",
    "        for i, _ in df.iterrows():\n",
    "            if ticker_signal[ticker] is None or ticker_signal[ticker] == 0:\n",
    "                ticker_return[ticker].append(0)\n",
    "                if i > 0 and buy_signal(df, i, renko_nb):\n",
    "                    ticker_signal[ticker] = 1\n",
    "                elif i > 0 and sell_signal(df, i, renko_nb):\n",
    "                    ticker_signal[ticker] = -1\n",
    "            \n",
    "            elif ticker_signal[ticker] == 1:\n",
    "                ticker_return[ticker].append((df['Adj Close'][i]/df['Adj Close'][i-1])-1)\n",
    "                if sell_signal(df, i, renko_nb):\n",
    "                    ticker_signal[ticker] = -1\n",
    "                elif exit_signal(df, i, position=1):\n",
    "                    ticker_signal[ticker] = 0\n",
    "                    \n",
    "            elif ticker_signal[ticker] == -1:\n",
    "                ticker_return[ticker].append((df['Adj Close'][i]/df['Adj Close'][i-1])-1)\n",
    "                if buy_signal(df, i, renko_nb):\n",
    "                    ticker_signal[ticker] = 1\n",
    "                elif exit_signal(df, i, position=-1):\n",
    "                    ticker_signal[ticker] = 0\n",
    "        ohlc_renko[ticker]['returns'] = ticker_return[ticker]\n",
    "    returns_df = pd.DataFrame({ticker: ohlc_renko[ticker]['returns'] for ticker in tickers})\n",
    "    returns_df['total_returns'] = returns_df.sum(axis=1)\n",
    "    return returns_df\n"
   ]
  },
  {
   "cell_type": "code",
   "execution_count": 7,
   "metadata": {},
   "outputs": [
    {
     "name": "stdout",
     "output_type": "stream",
     "text": [
      "Calculating daily returns for: CSCO\n",
      "Calculating daily returns for: VZ\n",
      "Calculating daily returns for: IBM\n",
      "Calculating daily returns for: QCOM\n",
      "Calculating daily returns for: LYFT\n"
     ]
    }
   ],
   "source": [
    "results = backtest(ohlc_renko, renko_nb=2, verbose=True)"
   ]
  },
  {
   "cell_type": "code",
   "execution_count": 8,
   "metadata": {},
   "outputs": [
    {
     "name": "stdout",
     "output_type": "stream",
     "text": [
      "Calculating KPIs for:  CSCO\n",
      "Calculating KPIs for:  VZ\n",
      "Calculating KPIs for:  IBM\n",
      "Calculating KPIs for:  QCOM\n",
      "Calculating KPIs for:  LYFT\n",
      "Calculating KPIs for:  total_returns\n"
     ]
    }
   ],
   "source": [
    "cagr = {}\n",
    "sharpe = {}\n",
    "max_dd = {}\n",
    "calmar = {}\n",
    "for col in results:\n",
    "    print(\"Calculating KPIs for: \", col)\n",
    "    cagr[col] = get_cagr(results, col, 252*78)\n",
    "    sharpe[col] = get_sharpe(results, col, 0.0225, 252*78)\n",
    "    max_dd[col] = get_max_drawdown(results, col)\n",
    "    calmar[col] = get_calmar(results, col, annualized_const=0.0225)"
   ]
  },
  {
   "cell_type": "code",
   "execution_count": 11,
   "metadata": {},
   "outputs": [],
   "source": [
    "kpi_df = pd.DataFrame([cagr, sharpe, max_dd, calmar], index=['cagr', 'sharpe', 'max_dd', 'calmar']).T"
   ]
  },
  {
   "cell_type": "code",
   "execution_count": 12,
   "metadata": {},
   "outputs": [
    {
     "data": {
      "text/html": [
       "<div>\n",
       "<style scoped>\n",
       "    .dataframe tbody tr th:only-of-type {\n",
       "        vertical-align: middle;\n",
       "    }\n",
       "\n",
       "    .dataframe tbody tr th {\n",
       "        vertical-align: top;\n",
       "    }\n",
       "\n",
       "    .dataframe thead th {\n",
       "        text-align: right;\n",
       "    }\n",
       "</style>\n",
       "<table border=\"1\" class=\"dataframe\">\n",
       "  <thead>\n",
       "    <tr style=\"text-align: right;\">\n",
       "      <th></th>\n",
       "      <th>cagr</th>\n",
       "      <th>sharpe</th>\n",
       "      <th>max_dd</th>\n",
       "      <th>calmar</th>\n",
       "    </tr>\n",
       "  </thead>\n",
       "  <tbody>\n",
       "    <tr>\n",
       "      <th>IBM</th>\n",
       "      <td>4.485</td>\n",
       "      <td>15.446</td>\n",
       "      <td>0.038</td>\n",
       "      <td>0.0</td>\n",
       "    </tr>\n",
       "    <tr>\n",
       "      <th>total_returns</th>\n",
       "      <td>12.934</td>\n",
       "      <td>10.641</td>\n",
       "      <td>0.172</td>\n",
       "      <td>0.0</td>\n",
       "    </tr>\n",
       "    <tr>\n",
       "      <th>LYFT</th>\n",
       "      <td>6.062</td>\n",
       "      <td>9.379</td>\n",
       "      <td>0.103</td>\n",
       "      <td>0.0</td>\n",
       "    </tr>\n",
       "    <tr>\n",
       "      <th>QCOM</th>\n",
       "      <td>-0.177</td>\n",
       "      <td>-0.684</td>\n",
       "      <td>0.056</td>\n",
       "      <td>-0.0</td>\n",
       "    </tr>\n",
       "    <tr>\n",
       "      <th>CSCO</th>\n",
       "      <td>-0.157</td>\n",
       "      <td>-1.076</td>\n",
       "      <td>0.058</td>\n",
       "      <td>-0.0</td>\n",
       "    </tr>\n",
       "    <tr>\n",
       "      <th>VZ</th>\n",
       "      <td>-0.242</td>\n",
       "      <td>-1.734</td>\n",
       "      <td>0.041</td>\n",
       "      <td>-0.0</td>\n",
       "    </tr>\n",
       "  </tbody>\n",
       "</table>\n",
       "</div>"
      ],
      "text/plain": [
       "                 cagr  sharpe  max_dd  calmar\n",
       "IBM             4.485  15.446   0.038     0.0\n",
       "total_returns  12.934  10.641   0.172     0.0\n",
       "LYFT            6.062   9.379   0.103     0.0\n",
       "QCOM           -0.177  -0.684   0.056    -0.0\n",
       "CSCO           -0.157  -1.076   0.058    -0.0\n",
       "VZ             -0.242  -1.734   0.041    -0.0"
      ]
     },
     "execution_count": 12,
     "metadata": {},
     "output_type": "execute_result"
    }
   ],
   "source": [
    "kpi_df.sort_values('sharpe', ascending=False)"
   ]
  },
  {
   "cell_type": "code",
   "execution_count": null,
   "metadata": {},
   "outputs": [],
   "source": []
  }
 ],
 "metadata": {
  "kernelspec": {
   "display_name": "Python 3",
   "language": "python",
   "name": "python3"
  },
  "language_info": {
   "codemirror_mode": {
    "name": "ipython",
    "version": 3
   },
   "file_extension": ".py",
   "mimetype": "text/x-python",
   "name": "python",
   "nbconvert_exporter": "python",
   "pygments_lexer": "ipython3",
   "version": "3.8.2"
  }
 },
 "nbformat": 4,
 "nbformat_minor": 4
}
